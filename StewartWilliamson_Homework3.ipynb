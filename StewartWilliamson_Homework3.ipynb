{
 "cells": [
  {
   "cell_type": "markdown",
   "metadata": {},
   "source": [
    "# 1. What is an algorithm?\n",
    "## It is a succession of steps that help solve one, current problem\n",
    "# 2. Variable names may not start with certain characters, what are two of them?\n",
    "## Variable names may not start with a number or a special character that is not a \"_\"\n",
    "# 3. What is a semantic error?\n",
    "## A semantic error will produce a program that can run, however the intent or goals of the code is not accomplished and doesn't have the expected results\n",
    "# 4. What is the \"#1\" rule of coding / debugging?\n",
    "## Regularly test, review, and comment on your code to maintain structure and clarity to ensure your program is functional but also adaptative.\n",
    "# 5. List Python reserved words.\n",
    "## print, not, if, and, while\n"
   ]
  },
  {
   "cell_type": "code",
   "execution_count": 2,
   "metadata": {},
   "outputs": [
    {
     "name": "stdout",
     "output_type": "stream",
     "text": [
      "Hello my name is Stewart\n",
      "My favorite food is Chocolate\n",
      "My dream job is Data Engineer\n"
     ]
    }
   ],
   "source": [
    "#Problem 6\n",
    "name = \"Stewart\"\n",
    "favorite_food = \"Chocolate\"\n",
    "dream_job = \"Data Engineer\"\n",
    "print(\"Hello, my name is \" + name + \"\\nMy favorite food is \" + favorite_food + \"\\nMy dream job is \" + dream_job)"
   ]
  },
  {
   "cell_type": "code",
   "execution_count": 4,
   "metadata": {},
   "outputs": [
    {
     "name": "stdout",
     "output_type": "stream",
     "text": [
      "6\n",
      "The 4th character of the string is l\n"
     ]
    }
   ],
   "source": [
    "#Problem 7\n",
    "is_this_easy = False\n",
    "how_many_data_types= 5\n",
    "car_mileage = 81005.2\n",
    "who_run_the_world = \"Girls!\"\n",
    "family_names = [\"Stewart\", \"Perla\", \"Jupiter\"]\n",
    "print(len(who_run_the_world))\n",
    "print(\"The 4th character of the string is \" + who_run_the_world[3])\n",
    "\n"
   ]
  },
  {
   "cell_type": "code",
   "execution_count": 16,
   "metadata": {},
   "outputs": [
    {
     "name": "stdout",
     "output_type": "stream",
     "text": [
      "ing Data Analytics \n",
      "Learning Data Analytics and Python is great!\n",
      "Python is present\n"
     ]
    }
   ],
   "source": [
    "#Problem 8\n",
    "savvy = \"Learning Data Analytics and Python is Awesome!\"\n",
    "savvy_slice = savvy[5:24]\n",
    "print(savvy_slice)\n",
    "print(savvy.replace(\"Awesome\", \"great\"))\n",
    "if \"Python\" in savvy:\n",
    "    print(\"Python is present\")\n",
    "    "
   ]
  },
  {
   "cell_type": "code",
   "execution_count": 18,
   "metadata": {},
   "outputs": [
    {
     "name": "stdout",
     "output_type": "stream",
     "text": [
      "Hi my name is Jeffery, I am 5 feet and 8 old today\n",
      "8.0\n"
     ]
    }
   ],
   "source": [
    "#Problem 9\n",
    "name, age, length = \"Jeffery\", 8, \"5 feet\" \n",
    "miniBio = f\"Hi my name is {name}, I am {length} and {str(age)} old today\"\n",
    "print(miniBio)\n",
    "print(float(age))\n"
   ]
  },
  {
   "cell_type": "code",
   "execution_count": 25,
   "metadata": {},
   "outputs": [
    {
     "name": "stdout",
     "output_type": "stream",
     "text": [
      "8\n",
      "[True, 17, 'smaller', 14, 9.6]\n",
      "['Large', 3, 55.8, True, 17, 'smaller', 14, 9.6]\n",
      "['Large', 3, 55.8, True, 17, 'smaller', 14, 9.6, [True, 17, 'smaller', 14, 9.6]]\n",
      "[3, 5, 14, 31, 82]\n",
      "[True, 17, 'smaller', 14, 9.6, 3, 5, 14, 31, 82]\n"
     ]
    }
   ],
   "source": [
    "#Problem 10\n",
    "mixed_list = [\"Large\", 3, 55.8, True, 17]\n",
    "mixed_list.append(\"smaller\")\n",
    "mixed_list.append(14)\n",
    "mixed_list.append(9.6)\n",
    "print(len(mixed_list))\n",
    "new_list = mixed_list[-5:]\n",
    "print(new_list)\n",
    "print(mixed_list)\n",
    "mixed_list.append(new_list)\n",
    "print(mixed_list)\n",
    "simList = [5,3,31,82,14]\n",
    "simList.sort(reverse=False)\n",
    "print(simList)\n",
    "third_list = simList.copy()\n",
    "newest_list = new_list + third_list\n",
    "print(newest_list)\n"
   ]
  },
  {
   "cell_type": "code",
   "execution_count": 32,
   "metadata": {},
   "outputs": [
    {
     "name": "stdout",
     "output_type": "stream",
     "text": [
      "14\n",
      "['14', '14', '14', 'purple lily', 'purple lily', 'purple lily', 'rare gems', 'rare gems', 'rare gems', 'runes', 'runes', 'runes', 'true', 'true', 'true']\n"
     ]
    }
   ],
   "source": [
    "#Problem 11\n",
    "tup1 = (\"rare gems\", \"14\", \"true\", \"runes\", \"purple lily\")\n",
    "tup2 = tup1 * 3\n",
    "print(tup2[11])\n",
    "print(sorted(tup2))\n"
   ]
  },
  {
   "cell_type": "code",
   "execution_count": null,
   "metadata": {},
   "outputs": [],
   "source": [
    "#Problem 12\n"
   ]
  },
  {
   "cell_type": "code",
   "execution_count": null,
   "metadata": {},
   "outputs": [],
   "source": [
    "#Problem 13\n"
   ]
  }
 ],
 "metadata": {
  "kernelspec": {
   "display_name": "base",
   "language": "python",
   "name": "python3"
  },
  "language_info": {
   "codemirror_mode": {
    "name": "ipython",
    "version": 3
   },
   "file_extension": ".py",
   "mimetype": "text/x-python",
   "name": "python",
   "nbconvert_exporter": "python",
   "pygments_lexer": "ipython3",
   "version": "3.9.16"
  },
  "orig_nbformat": 4
 },
 "nbformat": 4,
 "nbformat_minor": 2
}
