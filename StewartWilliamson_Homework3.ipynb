{
 "cells": [
  {
   "cell_type": "markdown",
   "metadata": {},
   "source": [
    "# 1. What is an algorithm?\n",
    "## It is a succession of steps that help solve one, current problem\n",
    "# 2. Variable names may not start with certain characters, what are two of them?\n",
    "## Variable names may not start with a number or a special character that is not a \"_\"\n",
    "# 3. What is a semantic error?\n",
    "## A semantic error will produce a program that can run, however the intent or goals of the code is not accomplished and doesn't have the expected results\n",
    "# 4. What is the \"#1\" rule of coding / debugging?\n",
    "## Regularly test, review, and comment on your code to maintain structure and clarity to ensure your program is functional but also adaptative.\n",
    "# 5. List Python reserved words.\n",
    "## print, not, if, and, while\n"
   ]
  },
  {
   "cell_type": "code",
   "execution_count": 78,
   "metadata": {},
   "outputs": [
    {
     "data": {
      "text/plain": [
       "'\\nHello my name is Stewart\\nMy favorite food is Chocolate\\nMy dream job is to be a Data Engineer\\n'"
      ]
     },
     "execution_count": 78,
     "metadata": {},
     "output_type": "execute_result"
    }
   ],
   "source": [
    "#Problem 6: Writing a multiple line comment\n",
    "'''\n",
    "Hello my name is Stewart\n",
    "My favorite food is Chocolate\n",
    "My dream job is to be a Data Engineer\n",
    "'''"
   ]
  },
  {
   "cell_type": "code",
   "execution_count": 79,
   "metadata": {},
   "outputs": [
    {
     "name": "stdout",
     "output_type": "stream",
     "text": [
      "6\n",
      "The 4th character of the string is l\n"
     ]
    }
   ],
   "source": [
    "#Problem 7: Create 5 different values, print the length of one of the string values and print the 4th index of the string value\n",
    "is_this_easy = False\n",
    "how_many_data_types= 5\n",
    "car_mileage = 81005.2\n",
    "who_run_the_world = \"Girls!\"\n",
    "family_names = [\"Stewart\", \"Perla\", \"Jupiter\"]\n",
    "print(len(who_run_the_world))\n",
    "print(\"The 4th character of the string is \" + who_run_the_world[3])"
   ]
  },
  {
   "cell_type": "code",
   "execution_count": 86,
   "metadata": {},
   "outputs": [
    {
     "name": "stdout",
     "output_type": "stream",
     "text": [
      "ing Data Analytics \n",
      "Learning Data Analytics and Python is great!\n",
      "Python is present\n"
     ]
    }
   ],
   "source": [
    "#Problem 8: Create new variable \"savvy\" and assign it as a string, slice the string, replace a part of the string, and test if the string contains the word \"Python\"\n",
    "savvy = \"Learning Data Analytics and Python is Awesome!\"\n",
    "savvy_slice = savvy[5:24]\n",
    "print(savvy_slice)\n",
    "print(savvy.replace(\"Awesome\", \"great\"))\n",
    "if \"Python\" in savvy:\n",
    "    print(\"Python is present\")    "
   ]
  },
  {
   "cell_type": "code",
   "execution_count": 81,
   "metadata": {},
   "outputs": [
    {
     "name": "stdout",
     "output_type": "stream",
     "text": [
      "Hi my name is Jeffery, I am 5 feet and 8 old today\n",
      "8.0\n"
     ]
    }
   ],
   "source": [
    "#Problem 9: Create 3 new values using a multi-variable naming method, create a miniBio with these variables and print and convert one of the values as a float\n",
    "name, age, length = \"Jeffery\", 8, \"5 feet\" \n",
    "miniBio = f\"Hi my name is {name}, I am {length} and {str(age)} old today\"\n",
    "print(miniBio)\n",
    "print(float(age))"
   ]
  },
  {
   "cell_type": "code",
   "execution_count": 82,
   "metadata": {},
   "outputs": [
    {
     "name": "stdout",
     "output_type": "stream",
     "text": [
      "8\n",
      "[True, 17, 'smaller', 14, 9.6]\n",
      "['Large', 3, 55.8, True, 17, 'smaller', 14, 9.6]\n",
      "['Large', 3, 55.8, True, 17, 'smaller', 14, 9.6, [True, 17, 'smaller', 14, 9.6]]\n",
      "[3, 5, 14, 31, 82]\n",
      "[True, 17, 'smaller', 14, 9.6, 3, 5, 14, 31, 82]\n"
     ]
    }
   ],
   "source": [
    "#Problem 10: Create a list, and then perform list functions on the list, while creating other lists\n",
    "mixed_list = [\"Large\", 3, 55.8, True, 17]\n",
    "mixed_list.append(\"smaller\")\n",
    "mixed_list.append(14)\n",
    "mixed_list.append(9.6)\n",
    "print(len(mixed_list))\n",
    "new_list = mixed_list[-5:]\n",
    "print(new_list)\n",
    "print(mixed_list)\n",
    "mixed_list.append(new_list)\n",
    "print(mixed_list)\n",
    "simList = [5,3,31,82,14]\n",
    "simList.sort(reverse=False)\n",
    "print(simList)\n",
    "third_list = simList.copy()\n",
    "newest_list = new_list + third_list\n",
    "print(newest_list)"
   ]
  },
  {
   "cell_type": "code",
   "execution_count": 83,
   "metadata": {},
   "outputs": [
    {
     "name": "stdout",
     "output_type": "stream",
     "text": [
      "14th treasure map\n",
      "['14th treasure map', '14th treasure map', '14th treasure map', 'purple lily', 'purple lily', 'purple lily', 'rare gems', 'rare gems', 'rare gems', 'runes', 'runes', 'runes', 'truth serum', 'truth serum', 'truth serum']\n",
      "truth serum\n",
      "14th treasure map\n",
      "truth serum\n",
      "truth serum\n",
      "('50',)\n",
      "('rare gems', '14th treasure map', 'truth serum', 'runes', 'purple lily', 'rare gems', '14th treasure map', 'truth serum', 'runes', 'purple lily', 'rare gems', '14th treasure map', 'truth serum', 'runes', 'purple lily', 'truth serum', '14th treasure map', 'truth serum', 'truth serum')\n"
     ]
    }
   ],
   "source": [
    "#Problem 11: Create a tuple and perform multiple tuple functions on it while creating other tuples\n",
    "tup1 = (\"rare gems\", \"14th treasure map\", \"truth serum\", \"runes\", \"purple lily\")\n",
    "tup2 = tup1 * 3\n",
    "print(tup2[11])\n",
    "print(sorted(tup2))\n",
    "tup3 = (tup2[2], tup2[6], tup2[7], tup2[12])\n",
    "for inventory_item in tup3:\n",
    "    print(inventory_item)\n",
    "tup4 = (\"50\",)\n",
    "print(tup4)\n",
    "tup5 = tup2 + tup3\n",
    "print(tup5)"
   ]
  },
  {
   "cell_type": "code",
   "execution_count": 84,
   "metadata": {},
   "outputs": [
    {
     "name": "stdout",
     "output_type": "stream",
     "text": [
      "{'Time', 'Apple', 'Space', 'Banana', 'Kiwi', 'Money'}\n",
      "{'Giant Snake', 'Chocolate Shake'}\n",
      "set()\n",
      "{'Giant Snake', 'Time', 'car', 'Birthday Cake', 'Apple', 'Banana', 'Chocolate Shake', 'Money'}\n"
     ]
    }
   ],
   "source": [
    "#Problem 12: Create a set and perform multiple set functions on it while creating more sets\n",
    "set1 = {\"Money\", \"Time\", \"Space\"}\n",
    "set1.add(\"Banana\")\n",
    "set1.add(\"Apple\")\n",
    "set1.add(\"Kiwi\")\n",
    "print(set1) \n",
    "set1.add(\"car\")\n",
    "set2 = {\"Giant Snake\", \"Birthday Cake\", \"Chocolate Shake\"}\n",
    "set3 = set1.union(set2)\n",
    "set2.pop()\n",
    "print(set2)\n",
    "set1.clear()\n",
    "print(set1)\n",
    "set3.discard(\"Kiwi\")\n",
    "set3.remove(\"Space\")\n",
    "print(set3)"
   ]
  },
  {
   "cell_type": "code",
   "execution_count": 85,
   "metadata": {},
   "outputs": [
    {
     "name": "stdout",
     "output_type": "stream",
     "text": [
      "dict_keys(['Instrument', 'Electric', 'Make', 'Number of Strings', 'Model', 'Favorite Color', 'Grocery List'])\n",
      "dict_values(['Guitar', True, 'ESP', 6, 'Stewart', 'Red', ['Bananas', 'Eggs', 'Bread']])\n",
      "{'Instrument': 'Guitar', 'Electric': True, 'Make': 'ESP', 'Number of Strings': 6, 'Favorite Color': 'Red', 'Grocery List': ['Bananas', 'Eggs', 'Bread']}\n",
      "{}\n"
     ]
    }
   ],
   "source": [
    "#Problem 13: Create a dictionary and perform multiple dictionary functions on it while creating more dictionaries\n",
    "dict1 = {\"Instrument\": \"Guitar\", \"Electric\": True, \"Make\": \"ESP\", \"Model\": \"KH-602\", \"Number of Strings\": 6}\n",
    "dict1.pop(\"Model\")\n",
    "dict1.update({\"Model\": \"Stewart\"})\n",
    "dict1.update({\"Favorite Color\": \"Red\"})\n",
    "dict1.update({\"Grocery List\": [\"Bananas\", \"Eggs\", \"Bread\"]})\n",
    "print(dict1.keys())\n",
    "print(dict1.values())\n",
    "dict2 = dict1.copy()\n",
    "dict2.pop(\"Model\")\n",
    "print(dict2)\n",
    "dict2.clear()\n",
    "print(dict2)"
   ]
  }
 ],
 "metadata": {
  "kernelspec": {
   "display_name": "base",
   "language": "python",
   "name": "python3"
  },
  "language_info": {
   "codemirror_mode": {
    "name": "ipython",
    "version": 3
   },
   "file_extension": ".py",
   "mimetype": "text/x-python",
   "name": "python",
   "nbconvert_exporter": "python",
   "pygments_lexer": "ipython3",
   "version": "3.9.16"
  },
  "orig_nbformat": 4
 },
 "nbformat": 4,
 "nbformat_minor": 2
}
