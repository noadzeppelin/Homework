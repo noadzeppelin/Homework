{
 "cells": [
  {
   "cell_type": "markdown",
   "metadata": {},
   "source": [
    "# 1. What does one need to do to use a module?\n",
    "## We would need to \"import\" the module into our file, so we may be able to access it.\n",
    "# 2. Name a Module we looked at and write a line or 2 of code as an example using this module"
   ]
  },
  {
   "cell_type": "code",
   "execution_count": 39,
   "metadata": {},
   "outputs": [
    {
     "name": "stdout",
     "output_type": "stream",
     "text": [
      "0\n"
     ]
    }
   ],
   "source": [
    "#For answering question number 2\n",
    "import random as rd\n",
    "random_num = rd.randint(0,10)\n",
    "print(random_num)"
   ]
  },
  {
   "cell_type": "markdown",
   "metadata": {},
   "source": [
    "# 3. What is the benefit of using Exception handling?\n",
    "## Exception handling can help the user identify errors and debug code.\n",
    "# 4. What are the 4 components used for Python Exception Handling?\n",
    "## The components we use for Exception Handling are \"try\", \"except\", \"else\", and \"finally\".\n",
    "# 5. NumPy arrays are like what Python data type?\n",
    "## Numpy arrays appear similar to list data types in Python.\n",
    "# 6. What is one of the main benefits of using NumPy arrays?\n",
    "## NumPy arrays use a significantly smaller amount of memory to store data and allows the code to be ran faster opposed to lists.\n",
    "# 7. What is one of the main requirements about the 'dtype' of NumPy arrays?\n",
    "## All the data types have to be the same, oppose to lists which allows the data types to be different within its \"brackets\".\n",
    "# 8. Of the 10 uses of NumPy, name 2.\n",
    "## 2 of the ways to use NumPy are Copying and viweing arrays and doing mathematical operations.\n",
    "# 9. Name one of the other libraries we'll use with NumPy?\n",
    "## We'll be using the \"matplotlib\" library.\n",
    "# 10. What is a Tensor?\n",
    "## A Tensor is an array that has more than 3 dimensions.\n",
    "# 11. Name a reason why it's better using NumPy for Data Analysis than using a Python List?\n",
    "##   While able to store the same data in a lower amount of memory, it also supplies a large library of functions that can be use on arrays.\n",
    "# 12. When creating an \"empty\" array, where do the elements come from?\n",
    "## Other than manually adding elements into the array, you could use a method that would add a range of elements that you like to add with a specific range."
   ]
  },
  {
   "cell_type": "code",
   "execution_count": 40,
   "metadata": {},
   "outputs": [
    {
     "name": "stdout",
     "output_type": "stream",
     "text": [
      "Renting a car is more affordable\n"
     ]
    }
   ],
   "source": [
    "## Problem 1: creating and accessing an \"if\" statement\n",
    "age = 27\n",
    "if age >= 25:\n",
    "    print(\"Renting a car is more affordable\")\n",
    "else:\n",
    "    print(\"Renting a car is very expensive\")"
   ]
  },
  {
   "cell_type": "code",
   "execution_count": 41,
   "metadata": {},
   "outputs": [
    {
     "name": "stdout",
     "output_type": "stream",
     "text": [
      "Renting a car is more affordable.\n"
     ]
    }
   ],
   "source": [
    "# Problem 2: Create an \"if\" statement with more than 2 outcomes\n",
    "age = 27\n",
    "if age >= 25:\n",
    "    print(\"Renting a car is more affordable.\")\n",
    "elif age >= 18 and age < 25:\n",
    "    print(\"Renting a car is very expensive.\")\n",
    "else:\n",
    "    print(\"You cannot legally rent a car.\")"
   ]
  },
  {
   "cell_type": "code",
   "execution_count": 42,
   "metadata": {},
   "outputs": [
    {
     "name": "stdout",
     "output_type": "stream",
     "text": [
      "43\n",
      "euioouoeeao\n"
     ]
    }
   ],
   "source": [
    "#Problem 3: Create a loop to count all the characters of a string and then print out only the vowels in it\n",
    "string = \"The quick brown fox jumps over the lazy dog\"\n",
    "char_count = 0\n",
    "vowels_only = \"\"\n",
    "for letter in string:\n",
    "    char_count += 1\n",
    "    if letter in \"AEIOUaeiou\":\n",
    "        vowels_only += letter\n",
    "    else:\n",
    "        continue\n",
    "print(char_count)\n",
    "print(vowels_only)"
   ]
  },
  {
   "cell_type": "code",
   "execution_count": 68,
   "metadata": {},
   "outputs": [
    {
     "name": "stdout",
     "output_type": "stream",
     "text": [
      "trousers fuchsia, \n",
      "trousers cerise, \n",
      "trousers Dark Sapphire, \n",
      "trousers auburn, \n",
      "trousers aqua, \n",
      "trousers burnt sienna, \n",
      "trousers gunmetal blue, \n",
      "trousers maple, \n",
      "blouse fuchsia, \n",
      "blouse cerise, \n",
      "blouse Dark Sapphire, \n",
      "blouse auburn, \n",
      "blouse aqua, \n",
      "blouse burnt sienna, \n",
      "blouse gunmetal blue, \n",
      "blouse maple, \n",
      "bandana fuchsia, \n",
      "bandana cerise, \n",
      "bandana Dark Sapphire, \n",
      "bandana auburn, \n",
      "bandana aqua, \n",
      "bandana burnt sienna, \n",
      "bandana gunmetal blue, \n",
      "bandana maple, \n",
      "cumber band fuchsia, \n",
      "cumber band cerise, \n",
      "cumber band Dark Sapphire, \n",
      "cumber band auburn, \n",
      "cumber band aqua, \n",
      "cumber band burnt sienna, \n",
      "cumber band gunmetal blue, \n",
      "cumber band maple, \n",
      "blazer fuchsia, \n",
      "blazer cerise, \n",
      "blazer Dark Sapphire, \n",
      "blazer auburn, \n",
      "blazer aqua, \n",
      "blazer burnt sienna, \n",
      "blazer gunmetal blue, \n",
      "blazer maple, \n",
      "vest fuchsia, \n",
      "vest cerise, \n",
      "vest Dark Sapphire, \n",
      "vest auburn, \n",
      "vest aqua, \n",
      "vest burnt sienna, \n",
      "vest gunmetal blue, \n",
      "vest maple, \n",
      "french beret fuchsia, \n",
      "french beret cerise, \n",
      "french beret Dark Sapphire, \n",
      "french beret auburn, \n",
      "french beret aqua, \n",
      "french beret burnt sienna, \n",
      "french beret gunmetal blue, \n",
      "french beret maple, \n",
      "scarf fuchsia, \n",
      "scarf cerise, \n",
      "scarf Dark Sapphire, \n",
      "scarf auburn, \n",
      "scarf aqua, \n",
      "scarf burnt sienna, \n",
      "scarf gunmetal blue, \n",
      "scarf maple, \n",
      "stole fuchsia, \n",
      "stole cerise, \n",
      "stole Dark Sapphire, \n",
      "stole auburn, \n",
      "stole aqua, \n",
      "stole burnt sienna, \n",
      "stole gunmetal blue, \n",
      "stole maple, \n"
     ]
    }
   ],
   "source": [
    "# Problem 4: Create a nested loop\n",
    "couture = [\"trousers\", \"blouse\", \"bandana\", \"cumber band\", \"blazer\", \"vest\", \"french beret\", \"scarf\", \"stole\"]\n",
    "panettone = {\"cerise\", \"fuchsia\", \"aqua\", \"maple\", \"auburn\", \"burnt sienna\", \"gunmetal blue\", \"Dark Sapphire\"}\n",
    "for article in couture:\n",
    "    for color in panettone:\n",
    "       print(article, color, end=\", \\n\")\n",
    "\n"
   ]
  },
  {
   "cell_type": "code",
   "execution_count": 69,
   "metadata": {},
   "outputs": [
    {
     "name": "stdout",
     "output_type": "stream",
     "text": [
      "4950\n"
     ]
    }
   ],
   "source": [
    "# Problem 5: Use the range function and a loop to calculate the sum of all numbers from 1 - 100\n",
    "sum = 0\n",
    "for num in range(1,100):\n",
    "    sum += num\n",
    "\n",
    "print(sum)"
   ]
  },
  {
   "cell_type": "code",
   "execution_count": 70,
   "metadata": {},
   "outputs": [
    {
     "name": "stdout",
     "output_type": "stream",
     "text": [
      "banana\n"
     ]
    }
   ],
   "source": [
    "# Problem 6: Print the second item in a list\n",
    "fruits = [\"apple\", \"banana\", \"cherry\"]\n",
    "print(fruits[1])"
   ]
  },
  {
   "cell_type": "code",
   "execution_count": 71,
   "metadata": {},
   "outputs": [
    {
     "name": "stdout",
     "output_type": "stream",
     "text": [
      "kiwi\n"
     ]
    }
   ],
   "source": [
    "#Problem 7: Change the value of an item in a list\n",
    "fruits = [\"apple\", \"banana\", \"cherry\"]\n",
    "fruits[0] = \"kiwi\"\n",
    "\n",
    "print(fruits[0])"
   ]
  },
  {
   "cell_type": "code",
   "execution_count": 72,
   "metadata": {},
   "outputs": [
    {
     "name": "stdout",
     "output_type": "stream",
     "text": [
      "['apple', 'banana', 'cherry', 'orange']\n"
     ]
    }
   ],
   "source": [
    "# Problem 8: use the append method on a list\n",
    "\n",
    "fruits = [\"apple\", \"banana\", \"cherry\"]\n",
    "fruits.append(\"orange\")\n",
    "\n",
    "print(fruits)"
   ]
  },
  {
   "cell_type": "code",
   "execution_count": 73,
   "metadata": {},
   "outputs": [
    {
     "name": "stdout",
     "output_type": "stream",
     "text": [
      "['apple', 'lemon', 'banana', 'cherry']\n"
     ]
    }
   ],
   "source": [
    "# Problem 9: use the insert method on a list\n",
    "fruits = [\"apple\", \"banana\", \"cherry\"]\n",
    "fruits.insert(1,\"lemon\")\n",
    "print(fruits)"
   ]
  },
  {
   "cell_type": "code",
   "execution_count": 74,
   "metadata": {},
   "outputs": [
    {
     "name": "stdout",
     "output_type": "stream",
     "text": [
      "['apple', 'cherry']\n"
     ]
    }
   ],
   "source": [
    "# Problem 10: use the remove method on a list\n",
    "fruits = [\"apple\", \"banana\", \"cherry\"]\n",
    "fruits.remove(\"banana\")\n",
    "print(fruits)"
   ]
  },
  {
   "cell_type": "code",
   "execution_count": 75,
   "metadata": {},
   "outputs": [
    {
     "name": "stdout",
     "output_type": "stream",
     "text": [
      "melon kiwi\n"
     ]
    }
   ],
   "source": [
    "#Problem 11: Use negagive indexing on a list\n",
    "fruits = [\"apple\", \"banana\", \"cherry\", \"orange\", \"kiwi\", \"melon\", \"mango\"]\n",
    "print(fruits[-2], fruits[-3])"
   ]
  },
  {
   "cell_type": "code",
   "execution_count": 76,
   "metadata": {},
   "outputs": [
    {
     "name": "stdout",
     "output_type": "stream",
     "text": [
      "['cherry', 'orange', 'kiwi']\n"
     ]
    }
   ],
   "source": [
    "#Problem 12: Print a range of indexes from a list\n",
    "fruits = [\"apple\", \"banana\", \"cherry\", \"orange\", \"kiwi\", \"melon\", \"mango\"]\n",
    "print(fruits[2:5])"
   ]
  },
  {
   "cell_type": "code",
   "execution_count": 77,
   "metadata": {},
   "outputs": [
    {
     "name": "stdout",
     "output_type": "stream",
     "text": [
      "7\n"
     ]
    }
   ],
   "source": [
    "#Problem 13: Print the number of items from a list\n",
    "fruits = [\"apple\", \"banana\", \"cherry\", \"orange\", \"kiwi\", \"melon\", \"mango\"]\n",
    "print(len(fruits))"
   ]
  },
  {
   "cell_type": "code",
   "execution_count": 78,
   "metadata": {},
   "outputs": [
    {
     "name": "stdout",
     "output_type": "stream",
     "text": [
      "['orange', 'melon', 'mango', 'kiwi', 'cherry', 'banana', 'apple']\n"
     ]
    }
   ],
   "source": [
    "#Problem 14: Sort a list in reverse order\n",
    "fruits = [\"apple\", \"banana\", \"cherry\", \"orange\", \"kiwi\", \"melon\", \"mango\"]\n",
    "fruits.sort(reverse=True)\n",
    "print(fruits)"
   ]
  },
  {
   "cell_type": "code",
   "execution_count": 79,
   "metadata": {},
   "outputs": [
    {
     "name": "stdout",
     "output_type": "stream",
     "text": [
      "August\n"
     ]
    }
   ],
   "source": [
    "#Problem 15: Get current Date and Time using DateTime module\n",
    "import datetime as dt\n",
    "today = dt.datetime.now()\n",
    "\n",
    "print(today.strftime(\"%B\"))\n"
   ]
  },
  {
   "cell_type": "code",
   "execution_count": 80,
   "metadata": {},
   "outputs": [
    {
     "name": "stdout",
     "output_type": "stream",
     "text": [
      "Hello Stewart! Happy Saturday\n"
     ]
    },
    {
     "ename": "TypeError",
     "evalue": "greeting() missing 1 required positional argument: 'day'",
     "output_type": "error",
     "traceback": [
      "\u001b[1;31m---------------------------------------------------------------------------\u001b[0m",
      "\u001b[1;31mTypeError\u001b[0m                                 Traceback (most recent call last)",
      "Cell \u001b[1;32mIn[80], line 14\u001b[0m\n\u001b[0;32m     11\u001b[0m     day \u001b[39m==\u001b[39m \u001b[39m\"\u001b[39m\u001b[39mRelaxing Sunday\u001b[39m\u001b[39m\"\u001b[39m\n\u001b[0;32m     13\u001b[0m greeting(name,day)\n\u001b[1;32m---> 14\u001b[0m greeting(name)\n",
      "\u001b[1;31mTypeError\u001b[0m: greeting() missing 1 required positional argument: 'day'"
     ]
    }
   ],
   "source": [
    "#Problem 16: Writing a function that greets user with date input\n",
    "import datetime as dt \n",
    "\n",
    "def greeting(name, day):\n",
    "    print(f\"Hello {name}! Happy {day}\")\n",
    "\n",
    "today = dt.datetime.now()\n",
    "day = today.strftime(\"%A\")\n",
    "name = \"Stewart\"\n",
    "if day == \"Sunday\":\n",
    "    day == \"Relaxing Sunday\"\n",
    "\n",
    "greeting(name,day)\n",
    "greeting(name)"
   ]
  },
  {
   "cell_type": "code",
   "execution_count": 81,
   "metadata": {},
   "outputs": [
    {
     "name": "stdout",
     "output_type": "stream",
     "text": [
      "You have a type error!\n",
      "Exception Handling completed.\n"
     ]
    }
   ],
   "source": [
    "#Problem 17: Writing a function that greets user with date input\n",
    "import datetime as dt \n",
    "try:\n",
    "    def greeting(name, day):\n",
    "        print(f\"Hello {name}! Happy {day}\")\n",
    "\n",
    "    today = dt.datetime.now()\n",
    "    day = today.strftime(\"%A\")\n",
    "    name = \"Stewart\"\n",
    "    if day == \"Sunday\":\n",
    "        day == \"Relaxing Sunday\"\n",
    "\n",
    "    greeting(name)\n",
    "except TypeError:\n",
    "    print(\"You have a type error!\")\n",
    "except:\n",
    "    print(\"Something else went wrong.\")\n",
    "else:\n",
    "    print(\"Everything is working correctlly.\")\n",
    "finally:\n",
    "    print(\"Exception Handling completed.\")\n",
    "\n"
   ]
  }
 ],
 "metadata": {
  "kernelspec": {
   "display_name": "base",
   "language": "python",
   "name": "python3"
  },
  "language_info": {
   "codemirror_mode": {
    "name": "ipython",
    "version": 3
   },
   "file_extension": ".py",
   "mimetype": "text/x-python",
   "name": "python",
   "nbconvert_exporter": "python",
   "pygments_lexer": "ipython3",
   "version": "3.9.16"
  },
  "orig_nbformat": 4
 },
 "nbformat": 4,
 "nbformat_minor": 2
}
