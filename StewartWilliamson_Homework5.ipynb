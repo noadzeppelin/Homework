{
 "cells": [
  {
   "cell_type": "markdown",
   "metadata": {},
   "source": [
    "# 1. What does Pandas stand for?\n",
    "## - Pandas either stands for \"Panel Data\" or Python Data Analysis\n",
    "# 2. What are the 2 collections used in Pandas?\n",
    "## 1. Arrays\n",
    "## 2. Dataframes\n",
    "# 3. Name 4 things Pandas can do for us.\n",
    "## 1. Data Cleaning\n",
    "## 2. Data Filling\n",
    "## 3. Merging and Joing data sets\n",
    "## 4.  Data inspection\n",
    "# 4. To permanently sort a DataFrame, which keyword should one use with the `df.sort()` method?\n",
    "## - We should use the 'inplace= True' keyword combination with the df.sort() method\n",
    "# 5. What is a CSV?\n",
    "## - CSV stands for \"Comma Separate Variables\"\n",
    "# 6. When cleaning data what values do we not like in our data?\n",
    "## - We do not like 'Null' values, or empty cells in our data."
   ]
  },
  {
   "cell_type": "code",
   "execution_count": 88,
   "metadata": {},
   "outputs": [
    {
     "name": "stdout",
     "output_type": "stream",
     "text": [
      "[1 2 3 4 5 6 7 8 9 8 6 5]\n"
     ]
    }
   ],
   "source": [
    "#Problem 7: Import NumPy and create an array\n",
    "import numpy as np\n",
    "\n",
    "#alist1 = [[[1,2],[3,4],[5,6]],[[7,8],[9,8],[6,5]]]\n",
    "array1 = np.array([1,2,3,4,5,6,7,8,9,8,6,5])\n",
    "array2 = array1.reshape(2,3,2)\n",
    "print(array1)"
   ]
  },
  {
   "cell_type": "code",
   "execution_count": 89,
   "metadata": {},
   "outputs": [
    {
     "name": "stdout",
     "output_type": "stream",
     "text": [
      "[ 0  4  8 12 16 20]\n"
     ]
    }
   ],
   "source": [
    "#Problem 8: Use the '.linespace' to create an array\n",
    "\n",
    "new_array1 = np.linspace(0,20,6)\n",
    "new_list = []\n",
    "for number in new_array1:\n",
    "    new_list.append(int(number))\n",
    "new_array = np.array(new_list)\n",
    "print(new_array)"
   ]
  },
  {
   "cell_type": "code",
   "execution_count": 90,
   "metadata": {},
   "outputs": [
    {
     "name": "stdout",
     "output_type": "stream",
     "text": [
      "[ 0  4  8 12 16 20]\n"
     ]
    }
   ],
   "source": [
    "#Problem 9: Make a deep copy from Problem 8\n",
    "import copy as cp\n",
    "copy_new_array = cp.deepcopy(new_array)\n",
    "print(copy_new_array)"
   ]
  },
  {
   "cell_type": "code",
   "execution_count": 109,
   "metadata": {},
   "outputs": [
    {
     "name": "stdout",
     "output_type": "stream",
     "text": [
      "[[25 16]\n",
      " [11  2]\n",
      " [13  4]\n",
      " [ 7 81]\n",
      " [ 5  6]\n",
      " [11 12]]\n"
     ]
    }
   ],
   "source": [
    "#Problem 10: Concatenate the 3 arrays from Problems from 7, 8,9\n",
    "import numpy as np\n",
    "thisArray = ([[25, 16]])\n",
    "thatArray = ([[11, 2], [13, 4]])\n",
    "anyArray = ([[7, 81], [5, 6], [11, 12]])\n",
    "newArray = np.concatenate((thisArray, thatArray,anyArray),axis = 0)\n",
    "print(newArray)"
   ]
  },
  {
   "cell_type": "code",
   "execution_count": 110,
   "metadata": {},
   "outputs": [
    {
     "name": "stdout",
     "output_type": "stream",
     "text": [
      "[[16 25]\n",
      " [ 2 11]\n",
      " [ 4 13]\n",
      " [ 7 81]\n",
      " [ 5  6]\n",
      " [11 12]]\n"
     ]
    }
   ],
   "source": [
    "#Problem 11: Sorting the array from Problem 9\n",
    "\n",
    "sortedArray = np.sort(newArray)\n",
    "print(sortedArray)"
   ]
  },
  {
   "cell_type": "code",
   "execution_count": 116,
   "metadata": {},
   "outputs": [
    {
     "name": "stdout",
     "output_type": "stream",
     "text": [
      "[[16 25  2]\n",
      " [11  4 13]\n",
      " [ 7 81  5]\n",
      " [ 6 11 12]]\n",
      "variables in array a: [16 25  2]\n",
      "variables in array b: [11  4 13]\n",
      "variables in array c: [ 7 81  5]\n",
      "variables in array d: [ 6 11 12]\n"
     ]
    }
   ],
   "source": [
    "#Problem 12: Create new array from unpacking the one from the previous question\n",
    "reshapedArray = sortedArray.reshape(4,3)\n",
    "print(reshapedArray)\n",
    "vars_a, vars_b, vars_c, vars_d = reshapedArray\n",
    "print(f\"variables in array a: {vars_a}\")\n",
    "print(f\"variables in array b: {vars_b}\")\n",
    "print(f\"variables in array c: {vars_c}\")\n",
    "print(f\"variables in array d: {vars_d}\")\n"
   ]
  },
  {
   "cell_type": "code",
   "execution_count": 121,
   "metadata": {},
   "outputs": [
    {
     "name": "stdout",
     "output_type": "stream",
     "text": [
      "[10 11 12 13 14 15 16 17 20 21 22 23 24 25 26 27  0  1  2  3  4  5  6  7]\n"
     ]
    }
   ],
   "source": [
    "#Problem 13: combine 3 arrays into 1\n",
    "one = np.array([10, 11, 12, 13, 14, 15, 16, 17])\n",
    "two = np.array([20, 21, 22, 23, 24, 25, 26, 27])\n",
    "three = np.array([ 0, 1, 2, 3, 4, 5, 6, 7])\n",
    "\n",
    "comboArray = np.concatenate((one,two,three), axis = 0)\n",
    "print(comboArray)"
   ]
  },
  {
   "cell_type": "code",
   "execution_count": 146,
   "metadata": {},
   "outputs": [
    {
     "name": "stdout",
     "output_type": "stream",
     "text": [
      "11\n",
      "[12 13 14 15 16 17 20 21 22 23 24 25 26 27  0  1  2  3  4  5  6  7]\n",
      "[13 14 15 16 17 20 21 22 23 24 25]\n",
      "[2 3 4 5 6 7]\n",
      "[15 16 17 20 21 22 23 24 25 26 27]\n",
      "[21 22 23 24 25 26 27  0  1  2  3  4  5  6  7]\n",
      "[ 7  2 25 20 13]\n"
     ]
    }
   ],
   "source": [
    "#Problem 14: Performing slicing onto the Array from Problem 13\n",
    "sec1 = comboArray[1]\n",
    "sec2 = comboArray[2:]\n",
    "sec3 = comboArray[3:14]\n",
    "sec4 = comboArray[-6:]\n",
    "sec5 = comboArray[-19:-8]\n",
    "sec6 = comboArray[9:]\n",
    "sec7 = comboArray[-1::-5]\n",
    "\n",
    "print(sec1)\n",
    "print(sec2)\n",
    "print(sec3)\n",
    "print(sec4)\n",
    "print(sec5)\n",
    "print(sec6)\n",
    "print(sec7)\n",
    "\n"
   ]
  },
  {
   "cell_type": "code",
   "execution_count": 152,
   "metadata": {},
   "outputs": [
    {
     "name": "stdout",
     "output_type": "stream",
     "text": [
      "       0  1      2\n",
      "0  Flour  4   cups\n",
      "1   Milk  1   cups\n",
      "2   Eggs  2  large\n",
      "3   Spam  1    can\n"
     ]
    }
   ],
   "source": [
    "#Problem 15: Create a Dataframe from series\n",
    "import pandas as pd\n",
    "ingredients_list = [\"Flour\", \"Milk\", \"Eggs\", \"Spam\"]\n",
    "quantity_list = [\"4\", \"1\",\"2\",\"1\"]\n",
    "units_list = [\"cups\", \"cups\", \"large\", \"can\"]\n",
    "\n",
    "ingredients = pd.Series(ingredients_list)\n",
    "quantity = pd.Series(quantity_list)\n",
    "units = pd.Series(units_list)\n",
    "\n",
    "dinner = pd.concat((ingredients, quantity, units), axis= 1)\n",
    "print(dinner)\n"
   ]
  },
  {
   "cell_type": "code",
   "execution_count": 154,
   "metadata": {},
   "outputs": [
    {
     "name": "stdout",
     "output_type": "stream",
     "text": [
      "      Name  Height Qualification  address  Age        Pets           sport\n",
      "0      Jai     5.1           Msc    Delhi   21         Dog           Darts\n",
      "1  janusha     6.2            MA     Doha   23       Bunny      Basketball\n",
      "2   Gaurav     5.1           Msc  Chennai   24  Chinchilla  PaddleBoarding\n",
      "3     Anuj     5.2           Msc   Dakhar   21      Parrot         Cricket\n"
     ]
    }
   ],
   "source": [
    "#Problem 16: Use the data below to create a Dataframe\n",
    "\n",
    "dict_studentData = {'Name': ['Jai', 'janusha', 'Gaurav', 'Anuj'],\n",
    "            'Height': [5.1, 6.2, 5.1, 5.2],\n",
    "            'Qualification': ['Msc', 'MA', 'Msc', 'Msc'],\n",
    "            'address': ['Delhi', 'Doha', 'Chennai', 'Dakhar'],\n",
    "            'Age': [21, 23, 24, 21],\n",
    "            'Pets': ['Dog', 'Bunny', 'Chinchilla', 'Parrot'],\n",
    "            'sport': ['Darts', 'Basketball', 'PaddleBoarding', 'Cricket']\n",
    "        }\n",
    "\n",
    "studentData = pd.DataFrame(dict_studentData)\n",
    "print(studentData)        "
   ]
  },
  {
   "cell_type": "code",
   "execution_count": 155,
   "metadata": {},
   "outputs": [
    {
     "name": "stdout",
     "output_type": "stream",
     "text": [
      "      Name  Height Qualification  address  Age        Pets           sport  \\\n",
      "0      Jai     5.1           Msc    Delhi   21         Dog           Darts   \n",
      "1  janusha     6.2            MA     Doha   23       Bunny      Basketball   \n",
      "2   Gaurav     5.1           Msc  Chennai   24  Chinchilla  PaddleBoarding   \n",
      "3     Anuj     5.2           Msc   Dakhar   21      Parrot         Cricket   \n",
      "\n",
      "        Deserts  \n",
      "0     ice cream  \n",
      "1  Cashew Fudge  \n",
      "2       Waffles  \n",
      "3  Carrot Halwa  \n"
     ]
    }
   ],
   "source": [
    "#Problem 17: Add a new column to the data frame in Problem 16\n",
    "studentData['Deserts'] = [\"ice cream\", \"Cashew Fudge\", \"Waffles\", \"Carrot Halwa\"]\n",
    "print(studentData)"
   ]
  },
  {
   "cell_type": "code",
   "execution_count": 157,
   "metadata": {},
   "outputs": [
    {
     "name": "stdout",
     "output_type": "stream",
     "text": [
      "      Name  Height Qualification  address  Age        Pets           sport  \\\n",
      "3     Anuj     5.2           Msc   Dakhar   21      Parrot         Cricket   \n",
      "2   Gaurav     5.1           Msc  Chennai   24  Chinchilla  PaddleBoarding   \n",
      "0      Jai     5.1           Msc    Delhi   21         Dog           Darts   \n",
      "1  janusha     6.2            MA     Doha   23       Bunny      Basketball   \n",
      "\n",
      "        Deserts  \n",
      "3  Carrot Halwa  \n",
      "2       Waffles  \n",
      "0     ice cream  \n",
      "1  Cashew Fudge  \n"
     ]
    }
   ],
   "source": [
    "#Problem 18: Sort the Dataframe\n",
    "studentData.sort_values(by = ['Name','address'], inplace = True)\n",
    "print(studentData)"
   ]
  },
  {
   "cell_type": "code",
   "execution_count": 164,
   "metadata": {},
   "outputs": [
    {
     "name": "stdout",
     "output_type": "stream",
     "text": [
      "        Cows  Goats\n",
      "Year 1    12     22\n",
      "Year 2    20     19\n"
     ]
    }
   ],
   "source": [
    "#Problem 19: Save the below Dataframe as a CSV file\n",
    "cows_and_goats = pd.DataFrame({'Cows': [12, 20], 'Goats': [22, 19]}, index=['Year 1', 'Year 2'])\n",
    "print(cows_and_goats)\n",
    "cows_and_goats.to_csv('../Activities/cows_and_goats.csv')"
   ]
  },
  {
   "cell_type": "code",
   "execution_count": 168,
   "metadata": {},
   "outputs": [
    {
     "name": "stdout",
     "output_type": "stream",
     "text": [
      "        Carrots  Corn\n",
      "Spring        3    12\n",
      "Summer        7     5\n",
      "        Carrots  Corn  Pumpkins\n",
      "Spring        3    12         1\n",
      "Summer        7     5         2\n"
     ]
    }
   ],
   "source": [
    "#Problem 20: Create and save a CSV file, then while making a copy, make change the CSV file and save it again\n",
    "vegetables = pd.DataFrame({\"Carrots\": [3, 7],\"Corn\": [12, 5]}, index=['Spring', 'Summer'])\n",
    "print(vegetables)\n",
    "vegetables.to_csv('../Activities/vegetables.csv')\n",
    "vegetables[\"Pumpkins\"] = [1,2]\n",
    "print(vegetables)\n",
    "vegetables.to_csv('../Activities/vegetables_with_pumpkins.csv')"
   ]
  }
 ],
 "metadata": {
  "kernelspec": {
   "display_name": "base",
   "language": "python",
   "name": "python3"
  },
  "language_info": {
   "codemirror_mode": {
    "name": "ipython",
    "version": 3
   },
   "file_extension": ".py",
   "mimetype": "text/x-python",
   "name": "python",
   "nbconvert_exporter": "python",
   "pygments_lexer": "ipython3",
   "version": "3.9.16"
  },
  "orig_nbformat": 4
 },
 "nbformat": 4,
 "nbformat_minor": 2
}
